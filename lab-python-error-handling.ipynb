{
 "cells": [
  {
   "cell_type": "markdown",
   "id": "25d7736c-ba17-4aff-b6bb-66eba20fbf4e",
   "metadata": {},
   "source": [
    "# Lab | Error Handling"
   ]
  },
  {
   "cell_type": "markdown",
   "id": "bc99b386-7508-47a0-bcdb-d969deaf6c8b",
   "metadata": {},
   "source": [
    "## Exercise: Error Handling for Managing Customer Orders\n",
    "\n",
    "The implementation of your code for managing customer orders assumes that the user will always enter a valid input. \n",
    "\n",
    "For example, we could modify the `initialize_inventory` function to include error handling.\n",
    "   - If the user enters an invalid quantity (e.g., a negative value or a non-numeric value), display an error message and ask them to re-enter the quantity for that product.\n",
    "   - Use a try-except block to handle the error and continue prompting the user until a valid quantity is entered.\n",
    "\n",
    "```python\n",
    "# Step 1: Define the function for initializing the inventory with error handling\n",
    "def initialize_inventory(products):\n",
    "    inventory = {}\n",
    "    for product in products:\n",
    "        valid_quantity = False\n",
    "        while not valid_quantity:\n",
    "            try:\n",
    "                quantity = int(input(f\"Enter the quantity of {product}s available: \"))\n",
    "                if quantity < 0:\n",
    "                    raise ValueError(\"Invalid quantity! Please enter a non-negative value.\")\n",
    "                valid_quantity = True\n",
    "            except ValueError as error:\n",
    "                print(f\"Error: {error}\")\n",
    "        inventory[product] = quantity\n",
    "    return inventory\n",
    "\n",
    "# Or, in another way:\n",
    "\n",
    "def initialize_inventory(products):\n",
    "    inventory = {}\n",
    "    for product in products:\n",
    "        valid_input = False\n",
    "        while not valid_input:\n",
    "            try:\n",
    "                quantity = int(input(f\"Enter the quantity of {product}s available: \"))\n",
    "                if quantity >= 0:\n",
    "                    inventory[product] = quantity\n",
    "                    valid_input = True\n",
    "                else:\n",
    "                    print(\"Quantity cannot be negative. Please enter a valid quantity.\")\n",
    "            except ValueError:\n",
    "                print(\"Invalid input. Please enter a valid quantity.\")\n",
    "    return inventory\n",
    "```\n",
    "\n",
    "Let's enhance your code by implementing error handling to handle invalid inputs.\n",
    "\n",
    "Follow the steps below to complete the exercise:\n",
    "\n",
    "2. Modify the `calculate_total_price` function to include error handling.\n",
    "   - If the user enters an invalid price (e.g., a negative value or a non-numeric value), display an error message and ask them to re-enter the price for that product.\n",
    "   - Use a try-except block to handle the error and continue prompting the user until a valid price is entered.\n",
    "\n",
    "3. Modify the `get_customer_orders` function to include error handling.\n",
    "   - If the user enters an invalid number of orders (e.g., a negative value or a non-numeric value), display an error message and ask them to re-enter the number of orders.\n",
    "   - If the user enters an invalid product name (e.g., a product name that is not in the inventory), or that doesn't have stock available, display an error message and ask them to re-enter the product name. *Hint: you will need to pass inventory as a parameter*\n",
    "   - Use a try-except block to handle the error and continue prompting the user until a valid product name is entered.\n",
    "\n",
    "4. Test your code by running the program and deliberately entering invalid quantities and product names. Make sure the error handling mechanism works as expected.\n"
   ]
  },
  {
   "cell_type": "code",
   "execution_count": 1,
   "id": "01f5e50b-74eb-4df0-b70d-b7b0370050ce",
   "metadata": {},
   "outputs": [
    {
     "name": "stdout",
     "output_type": "stream",
     "text": [
      "Choose the quantity of each product\n",
      "Choose the quantity of mug\n"
     ]
    },
    {
     "name": "stdin",
     "output_type": "stream",
     "text": [
      "Enter the quantity : 15\n"
     ]
    },
    {
     "name": "stdout",
     "output_type": "stream",
     "text": [
      "Choose the quantity of hat\n"
     ]
    },
    {
     "name": "stdin",
     "output_type": "stream",
     "text": [
      "Enter the quantity : 18\n"
     ]
    },
    {
     "name": "stdout",
     "output_type": "stream",
     "text": [
      "Choose the quantity of book\n"
     ]
    },
    {
     "name": "stdin",
     "output_type": "stream",
     "text": [
      "Enter the quantity : 25\n",
      "Enter the number of customer_orders 2\n",
      "choose product 1 :  hat\n",
      "choose a quantity :  5\n",
      "choose product 2 :  book\n",
      "choose a quantity :  10\n"
     ]
    },
    {
     "name": "stdout",
     "output_type": "stream",
     "text": [
      "{'hat': 5, 'book': 10}\n",
      "{'mug': 15, 'hat': 18, 'book': 25}\n"
     ]
    }
   ],
   "source": [
    "products = [\"mug\", \"hat\", \"book\"]\n",
    "\n",
    "def initialize_inventory(products):\n",
    "    print (\"Choose the quantity of each product\")\n",
    "    inventory = {}\n",
    "\n",
    "    for i in products:\n",
    "        valid_input = False\n",
    "        while not valid_input:\n",
    "            try : \n",
    "                \n",
    "                print(f\"Choose the quantity of {i}\")\n",
    "                product = int(input(\"Enter the quantity :\"))\n",
    "\n",
    "                if product >= 0:\n",
    "                    inventory[i] = product\n",
    "                    valid_input = True\n",
    "                else :\n",
    "                    print (\"Please enter a positif number\")\n",
    "\n",
    "            except:\n",
    "                print (\"Please inter a integer\")\n",
    "        \n",
    "\n",
    "    return inventory\n",
    "\n",
    "inventory = initialize_inventory(products)\n",
    "\n",
    "def calculate_total_price(inventory):\n",
    "    prices = {}  # Dictionnaire pour stocker les prix des produits\n",
    "    print(\"\\nEnter the price for each product:\")\n",
    "\n",
    "    for product in inventory:\n",
    "        valid_price = False\n",
    "        while not valid_price:\n",
    "            try:\n",
    "                price = float(input(f\"Enter the price for {product}: \"))\n",
    "                if price < 0:\n",
    "                    print(\"Error: Price cannot be negative. Please enter a valid price.\")\n",
    "                else:\n",
    "                    prices[product] = price\n",
    "                    valid_price = True\n",
    "            except ValueError:\n",
    "                print(\"Error: Invalid input. Please enter a numeric value for the price.\")\n",
    "    \n",
    "    total_price = 0\n",
    "    for product, quantity in inventory.items():\n",
    "        total_price += prices[product] * quantity\n",
    "    \n",
    "    print(f\"\\nThe total price of the inventory is: ${total_price:.2f}\")\n",
    "    return total_price\n",
    "\n",
    "\n",
    "\n",
    "def get_customer_orders():\n",
    "    num = False\n",
    "    while not num :\n",
    "        \n",
    "        try :\n",
    "            number = int(input(\"Enter the number of customer_orders\"))\n",
    "\n",
    "            if number > 0 :\n",
    "                num = True\n",
    "            elif number < 0:\n",
    "                print (\"Please enter a positif number\")\n",
    "        \n",
    "     \n",
    "        except ValueError:\n",
    "            print (\"Please enter a integer\")\n",
    "\n",
    "\n",
    "        \n",
    "    customer_orders = {}\n",
    "\n",
    "    for i in range (1, number + 1):\n",
    "        product = False\n",
    "        while not product :\n",
    "            try :\n",
    "                prod = str(input(f\"choose product {i} : \"))  \n",
    "             \n",
    "                if prod in inventory:\n",
    "                    product = True\n",
    "                    qty = False\n",
    "                    while not qty :\n",
    "                        try : \n",
    "                            qté = int(input(\"choose a quantity : \"))\n",
    "\n",
    "                            if qté < inventory[prod]:\n",
    "                                qty = True\n",
    "                                customer_orders[prod] = qté\n",
    "                            else:\n",
    "                                print (f\"You can't ask more than : {inventory[prod]}\")\n",
    "                        except ValueError:\n",
    "                            print (\"Please enter a integer\")\n",
    "                \n",
    "                    customer_orders[prod] = qté\n",
    "                    \n",
    "                else:\n",
    "                    print(\"Product not found in the available products.\")\n",
    "            except :\n",
    "                print(\"Invalid input\")\n",
    "    \n",
    "    return customer_orders\n",
    "       \n",
    "customer_orders = get_customer_orders()\n",
    "print (customer_orders)\n",
    "print (inventory)\n",
    "       "
   ]
  },
  {
   "cell_type": "code",
   "execution_count": null,
   "id": "aa950cbe-8c46-4ab7-8a46-6a09b1827152",
   "metadata": {},
   "outputs": [],
   "source": []
  }
 ],
 "metadata": {
  "kernelspec": {
   "display_name": "Python 3 (ipykernel)",
   "language": "python",
   "name": "python3"
  },
  "language_info": {
   "codemirror_mode": {
    "name": "ipython",
    "version": 3
   },
   "file_extension": ".py",
   "mimetype": "text/x-python",
   "name": "python",
   "nbconvert_exporter": "python",
   "pygments_lexer": "ipython3",
   "version": "3.12.7"
  }
 },
 "nbformat": 4,
 "nbformat_minor": 5
}
